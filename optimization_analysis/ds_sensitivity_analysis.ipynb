{
 "cells": [
  {
   "cell_type": "code",
   "execution_count": null,
   "id": "initial_id",
   "metadata": {
    "collapsed": true
   },
   "outputs": [],
   "source": [
    "from MTSP_DS_MILP_Solver import MTSP_DS_MILP_Solver\n",
    "\n",
    "from core.Location import rand_location\n",
    "import numpy as np\n",
    "import matplotlib.pyplot as plt"
   ]
  },
  {
   "cell_type": "code",
   "execution_count": null,
   "outputs": [],
   "source": [
    "n = 8\n",
    "Dn = 2\n",
    "Kn = 2\n",
    "\n",
    "n_configuration = 3\n",
    "n_trial = 3\n",
    "num_of_ds = [0,1,2]"
   ],
   "metadata": {
    "collapsed": false
   },
   "id": "cda73288baecddf1"
  },
  {
   "cell_type": "code",
   "execution_count": null,
   "outputs": [],
   "source": [
    "def randomLocations(num_of_locations):\n",
    "    locs = []\n",
    "    for _ in range(num_of_locations):\n",
    "        locs.append(rand_location())\n",
    "    return locs"
   ],
   "metadata": {
    "collapsed": false
   },
   "id": "42ccf089911ba4d4"
  },
  {
   "cell_type": "code",
   "execution_count": null,
   "outputs": [],
   "source": [
    "milp_fitness_average = []\n",
    "for i in range(n_configuration):\n",
    "    milp_fitness = []\n",
    "    customer_location = randomLocations(n)\n",
    "    print(\"customers: \", customer_location)\n",
    "    for ds_number in num_of_ds:\n",
    "        milp_solutions = []\n",
    "        for _ in range(n_trial):\n",
    "            while True:  \n",
    "                ds_setup = randomLocations(ds_number)\n",
    "                print(\"ds: \", ds_setup)\n",
    "                setup = customer_location + ds_setup\n",
    "                try:\n",
    "                    milp_solver = MTSP_DS_MILP_Solver(n, ds_number, Kn = 2, eps= 80, custom_locations=setup)\n",
    "                    milp_solver.solve()\n",
    "                    milp_solutions.append(milp_solver.getSolution())\n",
    "                    milp_solver.plot_tours()\n",
    "                    break \n",
    "                except (Exception, TimeoutError) as e:\n",
    "                    print(f\"Errore durante l'esecuzione: {e}. Ritentando con un nuovo setup.\")\n",
    "                    continue\n",
    "        milp_fitness.append(np.mean(milp_solutions))\n",
    "        \n",
    "    print(milp_fitness)\n",
    "    milp_fitness_average.append(milp_fitness)\n",
    "print(milp_fitness_average)"
   ],
   "metadata": {
    "collapsed": false
   },
   "id": "6de1b6dc2dfad246"
  },
  {
   "cell_type": "code",
   "execution_count": null,
   "outputs": [],
   "source": [
    "def get_improving_percentage(value, baseline):\n",
    "    return (baseline - value) / baseline * 100"
   ],
   "metadata": {
    "collapsed": false
   },
   "id": "bb223f9ca867454e"
  },
  {
   "cell_type": "code",
   "execution_count": null,
   "outputs": [],
   "source": [
    "fitness_percentages = []\n",
    "for i in range(n_configuration):\n",
    "    improving_percentage = []\n",
    "    for j in range(len(milp_fitness_average[i])):\n",
    "        improving_percentage.append(get_improving_percentage(milp_fitness_average[i][j], milp_fitness_average[i][0]))\n",
    "    fitness_percentages.append(improving_percentage)\n",
    "\n",
    "transposed = zip(*fitness_percentages)\n",
    "average_fitness_improvement_percentage = [sum(group) / len(group) for group in transposed]\n",
    "print(\"Average fitness improvement vs Baseline: \\n\", average_fitness_improvement_percentage) "
   ],
   "metadata": {
    "collapsed": false
   },
   "id": "407b3c3954779f9e"
  },
  {
   "cell_type": "code",
   "execution_count": null,
   "outputs": [],
   "source": [
    "def plot_sensitivity_analysis(values):\n",
    "    plt.figure(figsize=(10, 6))\n",
    "    plt.plot(values, marker='o', linestyle='-', color='b')\n",
    "    plt.axhline(0, color='gray', linestyle='--')\n",
    "\n",
    "    plt.xlabel('m (Drone Station number)')\n",
    "    plt.ylabel('Fitness average improvement vs. Baseline (0 Drone Stations) (%)')\n",
    "    plt.title('Sensitivity Analysis of parameter m')\n",
    "    plt.grid(True)\n",
    "    plt.show()\n",
    "\n",
    "plot_sensitivity_analysis(average_fitness_improvement_percentage)"
   ],
   "metadata": {
    "collapsed": false
   },
   "id": "47bfb1e06bb922fa"
  }
 ],
 "metadata": {
  "kernelspec": {
   "display_name": "Python 3",
   "language": "python",
   "name": "python3"
  },
  "language_info": {
   "codemirror_mode": {
    "name": "ipython",
    "version": 2
   },
   "file_extension": ".py",
   "mimetype": "text/x-python",
   "name": "python",
   "nbconvert_exporter": "python",
   "pygments_lexer": "ipython2",
   "version": "2.7.6"
  }
 },
 "nbformat": 4,
 "nbformat_minor": 5
}
