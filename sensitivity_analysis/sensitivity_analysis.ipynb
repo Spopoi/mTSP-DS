{
 "cells": [
  {
   "cell_type": "markdown",
   "source": [
    "mTSP - DS: MILP vs Matheuristic comparison"
   ],
   "metadata": {
    "collapsed": false
   },
   "id": "2eb064fef57cb328"
  },
  {
   "cell_type": "markdown",
   "source": [
    "Imports:"
   ],
   "metadata": {
    "collapsed": false
   },
   "id": "21da78fb71ddc755"
  },
  {
   "cell_type": "code",
   "execution_count": null,
   "outputs": [],
   "source": [
    "from MTSP_DS_MILP_Solver import MTSP_DS_MILP_Solver\n",
    "from MTSP_DS_Matheuristic_Solver import MTSP_DS_Matheuristic_Solver\n",
    "\n",
    "from core.Location import rand_location\n",
    "import numpy as np\n",
    "import matplotlib.pyplot as plt\n",
    "import concurrent.futures"
   ],
   "metadata": {
    "collapsed": false
   },
   "id": "e4028ca83d05a4cc"
  },
  {
   "cell_type": "markdown",
   "source": [
    "Parameters:"
   ],
   "metadata": {
    "collapsed": false
   },
   "id": "f57394f12946b0fe"
  },
  {
   "cell_type": "markdown",
   "source": [
    "m: number of drone stations\n",
    "Dn: number of drones for each drone station\n",
    "Kn: number of trucks"
   ],
   "metadata": {
    "collapsed": false
   },
   "id": "ca269d1d6c90617b"
  },
  {
   "cell_type": "code",
   "execution_count": null,
   "outputs": [],
   "source": [
    "m = 2\n",
    "Dn = 2\n",
    "Kn = 2\n",
    "\n",
    "n_trial = 4\n",
    "num_of_nodes = [6,7,8,9,10,11,12]"
   ],
   "metadata": {
    "collapsed": false
   },
   "id": "b02f481e6093eb7"
  },
  {
   "cell_type": "code",
   "execution_count": null,
   "outputs": [],
   "source": [
    "def randomLocations(num_of_locations):\n",
    "    locs = []\n",
    "    for _ in range(num_of_locations):\n",
    "        locs.append(rand_location())\n",
    "    return locs"
   ],
   "metadata": {
    "collapsed": false
   },
   "id": "30428ef0f3245135"
  },
  {
   "cell_type": "code",
   "execution_count": null,
   "outputs": [],
   "source": [
    "def get_milp_exec_time(number_of_nodes, nodes):\n",
    "    milp_solver = MTSP_DS_MILP_Solver(number_of_nodes,m,Kn,Dn, custom_locations=nodes)\n",
    "    milp_solver.solve()\n",
    "    return milp_solver.getExecTime()\n",
    "\n",
    "def get_matheuristic_exec_time(number_of_nodes, nodes):\n",
    "    solver = MTSP_DS_Matheuristic_Solver(number_of_nodes,m,Kn,Dn, custom_locations=nodes)\n",
    "    solver.solve()\n",
    "    return solver.getExecTime()"
   ],
   "metadata": {
    "collapsed": false
   },
   "id": "b96344f4325c4df9"
  },
  {
   "cell_type": "code",
   "execution_count": null,
   "outputs": [],
   "source": [
    "milp_average_exec_times = []\n",
    "matheuristic_average_exec_times = []\n",
    "\n",
    "def execute_with_timeout(func, nodes, locs, timeout=300):\n",
    "    with concurrent.futures.ThreadPoolExecutor() as executor:\n",
    "        future = executor.submit(func, nodes, locs)\n",
    "        try:\n",
    "            result = future.result(timeout=timeout)\n",
    "            return result\n",
    "        except concurrent.futures.TimeoutError:\n",
    "            raise TimeoutError(f\"Function {func.__name__} exceeded timeout of {timeout} seconds\")\n",
    "        except Exception as er:\n",
    "            raise er\n",
    "\n",
    "for num_of_node in num_of_nodes:\n",
    "    milp_exec_times = []\n",
    "    math_exec_times = []\n",
    "    for _ in range(n_trial):\n",
    "        while True: \n",
    "            setup = randomLocations(num_of_node + m)\n",
    "            try:\n",
    "                milp_time = execute_with_timeout(get_milp_exec_time, num_of_node, setup)\n",
    "                math_time = execute_with_timeout(get_matheuristic_exec_time, num_of_node, setup)\n",
    "                milp_exec_times.append(milp_time)\n",
    "                math_exec_times.append(math_time)\n",
    "                break  # Uscire dal ciclo while se entrambe le esecuzioni sono riuscite\n",
    "            except (Exception, TimeoutError) as e:\n",
    "                print(f\"Errore durante l'esecuzione: {e}. Ritentando con un nuovo setup.\")\n",
    "                continue  # new setup\n",
    "    milp_average_exec_times.append(np.mean(milp_exec_times))\n",
    "    matheuristic_average_exec_times.append(np.mean(math_exec_times))  "
   ],
   "metadata": {
    "collapsed": false
   },
   "id": "c8b0a4b37598fa29"
  },
  {
   "cell_type": "code",
   "execution_count": null,
   "outputs": [],
   "source": [
    "def plot_exec_times(nodes, milp_exec_time, matheuristic_exec_times):\n",
    "    width = 0.35  \n",
    "    x = np.arange(len(nodes))\n",
    "\n",
    "    fig, ax = plt.subplots()\n",
    "    ax.bar(x - width/2, milp_exec_time, width, label='MILP', color='blue')\n",
    "    ax.bar(x + width/2, matheuristic_exec_times, width, label='Matheuristic', color='red')\n",
    "    \n",
    "    ax.set_xlabel('Number of Nodes (n)')\n",
    "    ax.set_ylabel('Execution Time')\n",
    "    ax.set_title('Execution Time for Different Number of Nodes')\n",
    "    ax.set_xticks(x)\n",
    "    ax.set_xticklabels(num_of_nodes)\n",
    "    ax.legend()\n",
    "    ax.grid(True)\n",
    "    \n",
    "    plt.show()\n",
    "\n",
    "plot_exec_times(num_of_nodes, milp_average_exec_times, matheuristic_average_exec_times)"
   ],
   "metadata": {
    "collapsed": false
   },
   "id": "dec12e8fdf0f9f64"
  }
 ],
 "metadata": {
  "kernelspec": {
   "display_name": "Python 3",
   "language": "python",
   "name": "python3"
  },
  "language_info": {
   "codemirror_mode": {
    "name": "ipython",
    "version": 2
   },
   "file_extension": ".py",
   "mimetype": "text/x-python",
   "name": "python",
   "nbconvert_exporter": "python",
   "pygments_lexer": "ipython2",
   "version": "2.7.6"
  }
 },
 "nbformat": 4,
 "nbformat_minor": 5
}
