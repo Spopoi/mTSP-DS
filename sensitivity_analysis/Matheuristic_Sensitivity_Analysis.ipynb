{
 "cells": [
  {
   "cell_type": "markdown",
   "source": [
    "MATHEURISTIC SENSITIVITY ANALYSIS\n",
    "\n",
    "Imports:"
   ],
   "metadata": {
    "collapsed": false
   },
   "id": "1d6eb25361e24dcc"
  },
  {
   "cell_type": "code",
   "execution_count": 1,
   "outputs": [],
   "source": [
    "import numpy as np\n",
    "import matplotlib.pyplot as plt\n",
    "\n",
    "from MTSP_DS_MILP_Solver import MTSP_DS_MILP_Solver\n",
    "from MTSP_DS_Matheuristic_Solver import MTSP_DS_Matheuristic_Solver\n",
    "from TourUtils import plotTours\n"
   ],
   "metadata": {
    "collapsed": false,
    "ExecuteTime": {
     "end_time": "2024-05-21T09:53:01.603074524Z",
     "start_time": "2024-05-21T09:53:00.817027741Z"
    }
   },
   "id": "bb9c4f3a4f140dac"
  },
  {
   "cell_type": "markdown",
   "source": [
    "Parameters:\n",
    "m: number of drone stations\n",
    "Dn: number of drones for each drone station\n",
    "Kn: number of trucks"
   ],
   "metadata": {
    "collapsed": false
   },
   "id": "558f427cb9be70b6"
  },
  {
   "cell_type": "code",
   "execution_count": 2,
   "outputs": [],
   "source": [
    "m = 2 \n",
    "Dn = 2\n",
    "Kn = 2"
   ],
   "metadata": {
    "collapsed": false,
    "ExecuteTime": {
     "end_time": "2024-05-21T09:53:01.620947972Z",
     "start_time": "2024-05-21T09:53:01.605328937Z"
    }
   },
   "id": "7d6d520a762da0c9"
  },
  {
   "cell_type": "raw",
   "source": [
    "Methods:"
   ],
   "metadata": {
    "collapsed": false
   },
   "id": "18d9eb9972678a4d"
  },
  {
   "cell_type": "code",
   "execution_count": 3,
   "outputs": [],
   "source": [
    "def compute_average_solution(n, num_trials, solver_type):\n",
    "    execTimes = []\n",
    "    for i in range(num_trials):\n",
    "        if solver_type == \"MILP\":\n",
    "            solver = MTSP_DS_MILP_Solver(n, m, Dn, Kn)\n",
    "        else:\n",
    "            solver = MTSP_DS_Matheuristic_Solver(n, m, Dn, Kn)\n",
    "\n",
    "        solver.solve()\n",
    "        solver.save_nodes_location_to_file(\"test_locations\")\n",
    "        execTime = solver.getExecTime()\n",
    "        # solver.printExecutionLog()\n",
    "        execTimes.append(execTime)\n",
    "        if solver_type == \"MILP\":\n",
    "            plotTours(solver.getModel(), solver.v, solver.eps)\n",
    "    average_exec_time = np.mean(execTimes, axis=0)\n",
    "    return average_exec_time\n",
    "\n",
    "\n",
    "def plot_results_for_n(values, num_trials=1, solver = \"MILP\"):\n",
    "    average_solutions = []\n",
    "    for n in values:\n",
    "        average_solution = compute_average_solution(n, num_trials, solver)\n",
    "        average_solutions.append(average_solution)\n",
    "\n",
    "    plt.plot(values, average_solutions, marker='o')\n",
    "    plt.xlabel('Number of Nodes (n)')\n",
    "    plt.ylabel('Average Execution time')\n",
    "    plt.title('Average MTSP Execution Time for Different Number of Nodes')\n",
    "    plt.grid(True)\n",
    "    # plt.savefig('mtsp_ds_sensitivityAnalysis.png')\n",
    "    plt.show()"
   ],
   "metadata": {
    "collapsed": false,
    "ExecuteTime": {
     "end_time": "2024-05-21T09:53:01.644443185Z",
     "start_time": "2024-05-21T09:53:01.616744881Z"
    }
   },
   "id": "fbd958dbd263f6b4"
  },
  {
   "cell_type": "markdown",
   "source": [
    "MILP method call:"
   ],
   "metadata": {
    "collapsed": false
   },
   "id": "79a845271670ef09"
  },
  {
   "cell_type": "markdown",
   "source": [
    "Matheuristic method call:"
   ],
   "metadata": {
    "collapsed": false
   },
   "id": "e940b7ded186f5ce"
  }
 ],
 "metadata": {
  "kernelspec": {
   "display_name": "Python 3",
   "language": "python",
   "name": "python3"
  },
  "language_info": {
   "codemirror_mode": {
    "name": "ipython",
    "version": 2
   },
   "file_extension": ".py",
   "mimetype": "text/x-python",
   "name": "python",
   "nbconvert_exporter": "python",
   "pygments_lexer": "ipython2",
   "version": "2.7.6"
  }
 },
 "nbformat": 4,
 "nbformat_minor": 5
}
